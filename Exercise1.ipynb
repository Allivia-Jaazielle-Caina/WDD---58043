{
  "nbformat": 4,
  "nbformat_minor": 0,
  "metadata": {
    "colab": {
      "name": "Exercise1.ipynb",
      "provenance": [],
      "authorship_tag": "ABX9TyNZKPRH8oHF+N9bDDLuT75B",
      "include_colab_link": true
    },
    "kernelspec": {
      "name": "python3",
      "display_name": "Python 3"
    },
    "language_info": {
      "name": "python"
    }
  },
  "cells": [
    {
      "cell_type": "markdown",
      "metadata": {
        "id": "view-in-github",
        "colab_type": "text"
      },
      "source": [
        "<a href=\"https://colab.research.google.com/github/Allivia-Jaazielle-Caina/WDD---58043/blob/main/Exercise1.ipynb\" target=\"_parent\"><img src=\"https://colab.research.google.com/assets/colab-badge.svg\" alt=\"Open In Colab\"/></a>"
      ]
    },
    {
      "cell_type": "code",
      "execution_count": 28,
      "metadata": {
        "colab": {
          "base_uri": "https://localhost:8080/"
        },
        "id": "gaSI7Zh-mO_N",
        "outputId": "cec8eb62-60eb-4fac-f8ac-d77a62193261"
      },
      "outputs": [
        {
          "output_type": "stream",
          "name": "stdout",
          "text": [
            "Radius: 3\n",
            "The area of the circle is: 28.274333882308138\n",
            "Diameter: 6\n",
            "The area of the circle is: 28.274333882308138\n"
          ]
        }
      ],
      "source": [
        "from math import pi\n",
        "rad = float(input(\"Radius: \"))\n",
        "print (\"The area of the circle is: \" + str(pi * rad**2))\n",
        "\n",
        "dia = float(input(\"Diameter: \"))\n",
        "print (\"The area of the circle is: \" + str(pi * (dia**2)/4))\n"
      ]
    },
    {
      "cell_type": "code",
      "source": [
        "class formula:\n",
        "  def radius(self):\n",
        "    pass\n",
        "  def diameter(self):\n",
        "    pass\n",
        "class circle:\n",
        "  def __init__(self,pi,rad,dia):\n",
        "   self.pi = pi\n",
        "   self.rad = rad\n",
        "   self.dia = dia\n",
        "  def radius(self):\n",
        "    print(pi*(rad**2))\n",
        "  def diameter(self):\n",
        "    print((pi*(dia**2)/4))\n",
        "\n",
        "Radi = circle(3,5,10)\n",
        "Radi.radius()"
      ],
      "metadata": {
        "colab": {
          "base_uri": "https://localhost:8080/"
        },
        "id": "EfXamtj7zQpE",
        "outputId": "6f2c0a6e-c6c9-4250-9f5f-82771deea133"
      },
      "execution_count": 27,
      "outputs": [
        {
          "output_type": "stream",
          "name": "stdout",
          "text": [
            "28.274333882308138\n"
          ]
        }
      ]
    }
  ]
}